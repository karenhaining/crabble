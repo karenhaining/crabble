{
 "cells": [
  {
   "cell_type": "code",
   "execution_count": 1,
   "id": "685d4ee1",
   "metadata": {},
   "outputs": [],
   "source": [
    "import torch\n",
    "import torch.nn as nn\n",
    "import torch.optim as optim\n",
    "from torchvision import datasets, transforms\n",
    "from torch.utils.data import DataLoader\n",
    "import matplotlib.pyplot as plt\n",
    "import os\n"
   ]
  },
  {
   "cell_type": "code",
   "execution_count": 10,
   "id": "7bd337ee",
   "metadata": {},
   "outputs": [],
   "source": [
    "transform = transforms.Compose([\n",
    "    transforms.Grayscale(),\n",
    "    transforms.Resize((28, 28)),\n",
    "    transforms.ToTensor(),\n",
    "    transforms.Normalize((0.5,), (0.5,))\n",
    "])\n",
    "\n",
    "full_dataset = datasets.ImageFolder(root='data/', transform=transform)\n",
    "train_dataset, test_dataset = torch.utils.data.random_split(full_dataset, [0.8, 0.2])\n",
    "\n",
    "train_loader = DataLoader(train_dataset, batch_size=64, shuffle=True)\n",
    "test_loader = DataLoader(test_dataset, batch_size=64, shuffle=False)\n",
    "\n",
    "class_names = full_dataset.classes"
   ]
  },
  {
   "cell_type": "code",
   "execution_count": 11,
   "id": "4f0725dc",
   "metadata": {},
   "outputs": [],
   "source": [
    "class LetterClassifier(nn.Module):\n",
    "    def __init__(self):\n",
    "        super(LetterClassifier, self).__init__()\n",
    "        self.conv1 = nn.Conv2d(1, 32, 3)\n",
    "        self.conv2 = nn.Conv2d(32, 64, 3)\n",
    "        self.fc1 = nn.Linear(64 * 5 * 5, 128)\n",
    "        self.fc2 = nn.Linear(128, len(class_names))\n",
    "\n",
    "    def forward(self, x):\n",
    "        x = torch.relu(self.conv1(x))\n",
    "        x = torch.max_pool2d(x, 2)\n",
    "        x = torch.relu(self.conv2(x))\n",
    "        x = torch.max_pool2d(x, 2)\n",
    "        x = x.view(-1, 64 * 5 * 5)\n",
    "        x = torch.relu(self.fc1(x))\n",
    "        return self.fc2(x)"
   ]
  },
  {
   "cell_type": "code",
   "execution_count": 12,
   "id": "715436ea",
   "metadata": {},
   "outputs": [
    {
     "name": "stdout",
     "output_type": "stream",
     "text": [
      "Epoch 1, Loss: 1.9365\n",
      "Epoch 2, Loss: 0.2595\n",
      "Epoch 3, Loss: 0.1117\n",
      "Epoch 4, Loss: 0.0491\n",
      "Epoch 5, Loss: 0.0295\n",
      "Epoch 6, Loss: 0.0219\n",
      "Epoch 7, Loss: 0.0158\n",
      "Epoch 8, Loss: 0.0173\n",
      "Epoch 9, Loss: 0.0100\n",
      "Epoch 10, Loss: 0.0054\n",
      "Epoch 11, Loss: 0.0044\n",
      "Epoch 12, Loss: 0.0064\n",
      "Epoch 13, Loss: 0.0047\n",
      "Epoch 14, Loss: 0.0037\n",
      "Epoch 15, Loss: 0.0045\n",
      "Epoch 16, Loss: 0.0075\n",
      "Epoch 17, Loss: 0.0009\n",
      "Epoch 18, Loss: 0.0040\n",
      "Epoch 19, Loss: 0.0008\n",
      "Epoch 20, Loss: 0.0006\n",
      "Epoch 21, Loss: 0.0005\n",
      "Epoch 22, Loss: 0.0005\n",
      "Epoch 23, Loss: 0.0004\n",
      "Epoch 24, Loss: 0.0007\n",
      "Epoch 25, Loss: 0.0009\n",
      "Epoch 26, Loss: 0.0327\n",
      "Epoch 27, Loss: 0.0091\n",
      "Epoch 28, Loss: 0.0113\n",
      "Epoch 29, Loss: 0.0025\n",
      "Epoch 30, Loss: 0.0010\n",
      "Epoch 31, Loss: 0.0006\n",
      "Epoch 32, Loss: 0.0004\n",
      "Epoch 33, Loss: 0.0003\n",
      "Epoch 34, Loss: 0.0003\n",
      "Epoch 35, Loss: 0.0003\n",
      "Epoch 36, Loss: 0.0002\n",
      "Epoch 37, Loss: 0.0002\n",
      "Epoch 38, Loss: 0.0002\n",
      "Epoch 39, Loss: 0.0002\n",
      "Epoch 40, Loss: 0.0001\n",
      "Epoch 41, Loss: 0.0001\n",
      "Epoch 42, Loss: 0.0001\n",
      "Epoch 43, Loss: 0.0001\n",
      "Epoch 44, Loss: 0.0001\n",
      "Epoch 45, Loss: 0.0001\n",
      "Epoch 46, Loss: 0.0001\n",
      "Epoch 47, Loss: 0.0001\n",
      "Epoch 48, Loss: 0.0001\n",
      "Epoch 49, Loss: 0.0001\n",
      "Epoch 50, Loss: 0.0001\n"
     ]
    }
   ],
   "source": [
    "device = torch.device(\"cuda\" if torch.cuda.is_available() else \"cpu\")\n",
    "model = LetterClassifier().to(device)\n",
    "\n",
    "criterion = nn.CrossEntropyLoss()\n",
    "optimizer = optim.Adam(model.parameters(), lr=0.001)\n",
    "\n",
    "for epoch in range(50):\n",
    "    model.train()\n",
    "    running_loss = 0.0\n",
    "    for images, labels in train_loader:\n",
    "        images, labels = images.to(device), labels.to(device)\n",
    "\n",
    "        optimizer.zero_grad()\n",
    "        outputs = model(images)\n",
    "        loss = criterion(outputs, labels)\n",
    "        loss.backward()\n",
    "        optimizer.step()\n",
    "\n",
    "        running_loss += loss.item()\n",
    "    \n",
    "    print(f\"Epoch {epoch+1}, Loss: {running_loss/len(train_loader):.4f}\")\n"
   ]
  },
  {
   "cell_type": "code",
   "execution_count": 13,
   "id": "34e49beb",
   "metadata": {},
   "outputs": [
    {
     "name": "stdout",
     "output_type": "stream",
     "text": [
      "Test Accuracy: 99.37%\n"
     ]
    }
   ],
   "source": [
    "model.eval()\n",
    "correct = 0\n",
    "total = 0\n",
    "\n",
    "with torch.no_grad():\n",
    "    for images, labels in test_loader:\n",
    "        images, labels = images.to(device), labels.to(device)\n",
    "        outputs = model(images)\n",
    "        _, predicted = torch.max(outputs.data, 1)\n",
    "        total += labels.size(0)\n",
    "        correct += (predicted == labels).sum().item()\n",
    "\n",
    "print(f'Test Accuracy: {100 * correct / total:.2f}%')\n"
   ]
  },
  {
   "cell_type": "code",
   "execution_count": 14,
   "id": "2b0940c0",
   "metadata": {},
   "outputs": [
    {
     "data": {
      "image/png": "[encoded data removed]",
      "text/plain": [
       "<Figure size 864x288 with 6 Axes>"
      ]
     },
     "metadata": {
      "needs_background": "light"
     },
     "output_type": "display_data"
    }
   ],
   "source": [
    "def imshow(img):\n",
    "    img = img * 0.5 + 0.5  # unnormalize\n",
    "    plt.imshow(img.squeeze(), cmap='gray')\n",
    "    plt.axis('off')\n",
    "\n",
    "dataiter = iter(test_loader)\n",
    "images, labels = next(dataiter)\n",
    "outputs = model(images.to(device))\n",
    "_, preds = torch.max(outputs, 1)\n",
    "\n",
    "# Show first 6 images\n",
    "plt.figure(figsize=(12, 4))\n",
    "for idx in range(6):\n",
    "    plt.subplot(1, 6, idx+1)\n",
    "    imshow(images[idx])\n",
    "    plt.title(f\"Pred: {class_names[preds[idx]]}\\nTrue: {class_names[labels[idx]]}\")\n"
   ]
  },
  {
   "cell_type": "code",
   "execution_count": 15,
   "id": "0f6d116d",
   "metadata": {},
   "outputs": [],
   "source": [
    "torch.save(model.state_dict(), 'letter_classifier.pth')\n"
   ]
  }
 ],
 "metadata": {
  "kernelspec": {
   "display_name": "Python 3",
   "language": "python",
   "name": "python3"
  },
  "language_info": {
   "codemirror_mode": {
    "name": "ipython",
    "version": 3
   },
   "file_extension": ".py",
   "mimetype": "text/x-python",
   "name": "python",
   "nbconvert_exporter": "python",
   "pygments_lexer": "ipython3",
   "version": "3.10.12"
  }
 },
 "nbformat": 4,
 "nbformat_minor": 5
}
